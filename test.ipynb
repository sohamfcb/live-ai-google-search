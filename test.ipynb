{
 "cells": [
  {
   "cell_type": "code",
   "execution_count": 2,
   "metadata": {},
   "outputs": [],
   "source": [
    "from langchain.agents import Tool\n",
    "from langchain_groq import ChatGroq\n",
    "from langchain_community.vectorstores import FAISS\n",
    "from langchain_core.prompts import ChatPromptTemplate"
   ]
  },
  {
   "cell_type": "code",
   "execution_count": 27,
   "metadata": {},
   "outputs": [],
   "source": [
    "from dotenv import load_dotenv\n",
    "import os\n",
    "\n",
    "load_dotenv()\n",
    "\n",
    "google_cse_id=os.getenv(\"GOOGLE_CSE_ID\")\n",
    "google_search_api_key=os.getenv(\"GOOGLE_SEARCH_API_KEY\")\n",
    "groq_api_key=os.getenv(\"GROQ_API_KEY\")"
   ]
  },
  {
   "cell_type": "code",
   "execution_count": 4,
   "metadata": {},
   "outputs": [],
   "source": [
    "from googleapiclient.discovery import build\n",
    "\n",
    "service=build(\"customsearch\",\"v1\",developerKey=google_search_api_key)\n",
    "res=service.cse().list(q='Python programming language',cx=google_cse_id).execute()"
   ]
  },
  {
   "cell_type": "code",
   "execution_count": 9,
   "metadata": {},
   "outputs": [
    {
     "name": "stdout",
     "output_type": "stream",
     "text": [
      "Result 1:\n",
      "Title: Welcome to Python.org\n",
      "Link: https://www.python.org/\n",
      "--------------------------------------------------\n",
      "Result 2:\n",
      "Title: Python (programming language) - Wikipedia\n",
      "Link: https://en.wikipedia.org/wiki/Python_(programming_language)\n",
      "--------------------------------------------------\n",
      "Result 3:\n",
      "Title: Download Python | Python.org\n",
      "Link: https://www.python.org/downloads/\n",
      "--------------------------------------------------\n",
      "Result 4:\n",
      "Title: Introduction to Python\n",
      "Link: https://www.w3schools.com/python/python_intro.asp\n",
      "--------------------------------------------------\n",
      "Result 5:\n",
      "Title: The Python Tutorial — Python 3.13.1 documentation\n",
      "Link: https://docs.python.org/3/tutorial/index.html\n",
      "--------------------------------------------------\n",
      "Result 6:\n",
      "Title: Python as functional programming language - Python Help ...\n",
      "Link: https://discuss.python.org/t/python-as-functional-programming-language/38402\n",
      "--------------------------------------------------\n",
      "Result 7:\n",
      "Title: Python Docs\n",
      "Link: https://docs.python.org/\n",
      "--------------------------------------------------\n",
      "Result 8:\n",
      "Title: Next programming language after Python? : r/Python\n",
      "Link: https://www.reddit.com/r/Python/comments/amdz21/next_programming_language_after_python/\n",
      "--------------------------------------------------\n",
      "Result 9:\n",
      "Title: Python Courses & Tutorials | Codecademy\n",
      "Link: https://www.codecademy.com/catalog/language/python\n",
      "--------------------------------------------------\n",
      "Result 10:\n",
      "Title: Is it good to say python a scripting language or a programming ...\n",
      "Link: https://www.reddit.com/r/Python/comments/erz7p9/is_it_good_to_say_python_a_scripting_language_or/\n",
      "--------------------------------------------------\n"
     ]
    }
   ],
   "source": [
    "results=res.get('items',[])\n",
    "\n",
    "for index, item in enumerate(results):\n",
    "    title=item.get(\"title\",'no title')\n",
    "    link=item.get('link','no link')\n",
    "    print(f\"Result {index + 1}:\")\n",
    "    print(f\"Title: {title}\")\n",
    "    print(f\"Link: {link}\")\n",
    "    print('-' * 50)"
   ]
  },
  {
   "cell_type": "code",
   "execution_count": null,
   "metadata": {},
   "outputs": [],
   "source": [
    "class GoogleSearch:\n",
    "\n",
    "    def __init__(self,api_key,cse_id):\n",
    "\n",
    "        self.service=build(\"customsearch\",\"v1\",developerKey=api_key)\n",
    "        self.cse_id=cse_id\n",
    "\n",
    "    def search(self,query):\n",
    "\n",
    "        custom_prompt=\"\"\"\n",
    "            I have the following search results related to \"{query}\". Please analyze these results and provide a comprehensive, well-structured summary. Include the most relevant insights, comparisons (if applicable), and any notable trends or points. Format the summary as follows:\n",
    "\n",
    "            1. **Key Insights**: Provide the most important takeaways from the search results.\n",
    "            2. **Detailed Explanation**: Expand on the context and details provided in the results, offering a deeper understanding of the topic.\n",
    "            3. **Examples or Case Studies** (if applicable): Include any examples or case studies mentioned in the results that illustrate the key points.\n",
    "            4. **Conclusion**: Summarize the overall implications or significance of the findings.\n",
    "\n",
    "            Here are the search results:\n",
    "            {search_results}\n",
    "\n",
    "            Make sure to provide a clear and concise answer with structured sections for easy reading.\n",
    "\n",
    "        \"\"\"\n",
    "\n",
    "        response=(\n",
    "            self.service.cse().list(q=query,cx=self.cse_id).execute()\n",
    "        )\n",
    "\n",
    "        search_results = response.get('items', [])\n",
    "        formatted_results = \"\"\n",
    "\n",
    "        for item in search_results:\n",
    "            title = item.get('title', 'No Title')\n",
    "            snippet = item.get('snippet', 'No Snippet')\n",
    "            link = item.get('link', 'No Link')\n",
    "            \n",
    "            formatted_results += f\"**Title**: {title}\\n**Snippet**: {snippet}\\n**Link**: {link}\\n\\n\"\n",
    "\n",
    "        prompt = custom_prompt.format(query=query, search_results=formatted_results)\n",
    "\n",
    "        return prompt"
   ]
  },
  {
   "cell_type": "code",
   "execution_count": null,
   "metadata": {},
   "outputs": [],
   "source": [
    "from langchain.agents import initialize_agent, AgentType\n",
    "from langchain_openai import ChatOpenAI\n",
    "\n",
    "engine=GoogleSearch(api_key=google_search_api_key,cse_id=google_cse_id)\n",
    "\n",
    "search_tool=Tool(\n",
    "    name=\"Google Search\",\n",
    "    description=\"Retrieve information from Google Programmable Search Engine.\",\n",
    "    func=engine.search\n",
    ")\n",
    "\n",
    "llm=ChatGroq(model='llama-3.1-8b-instant',\n",
    "             groq_api_key=groq_api_key)\n",
    "\n",
    "# llm=ChatOpenAI(model='gpt-4o-mini',temperature=0.7)\n",
    "\n",
    "tools=[search_tool]\n",
    "\n",
    "agent=initialize_agent(\n",
    "    tools=tools,\n",
    "    llm=llm,\n",
    "    agent=AgentType.ZERO_SHOT_REACT_DESCRIPTION,\n",
    ")"
   ]
  },
  {
   "cell_type": "code",
   "execution_count": null,
   "metadata": {},
   "outputs": [],
   "source": [
    "response=agent.run(\"What are the features of iphone 16 pro max?\")"
   ]
  },
  {
   "cell_type": "code",
   "execution_count": 31,
   "metadata": {},
   "outputs": [],
   "source": [
    "with open('iphone.txt','w') as f:\n",
    "    f.write(response)"
   ]
  },
  {
   "cell_type": "code",
   "execution_count": 43,
   "metadata": {},
   "outputs": [],
   "source": [
    "from langchain_core.messages import AIMessage, HumanMessage\n",
    "from langchain_core.prompts import ChatPromptTemplate, MessagesPlaceholder\n",
    "from langchain.chains import LLMChain\n",
    "from langchain.memory import ConversationBufferMemory\n",
    "\n",
    "memory=ConversationBufferMemory(memory_key='chat_history',return_messages=True)\n",
    "\n",
    "prompt_template = \"\"\"\n",
    "You are an assistant capable of browsing the internet and answering questions based on search results. You will remember prior conversations and take them into account for a more accurate response.\n",
    "\n",
    "Here is the context of the conversation:\n",
    "{chat_history}\n",
    "\n",
    "Now, answer the following question based on your previous conversation and the current query:\n",
    "{query}\n",
    "\"\"\"\n",
    "\n",
    "prompt=ChatPromptTemplate.from_template(template=prompt_template)\n",
    "\n",
    "llm_chain=LLMChain(prompt=prompt,llm=llm)\n",
    "\n",
    "tools=[search_tool]\n",
    "\n",
    "agent=initialize_agent(\n",
    "    tools=tools,\n",
    "    llm=llm,\n",
    "    agent='chat-conversational-react-description',\n",
    "    memory=memory\n",
    ")\n"
   ]
  },
  {
   "cell_type": "code",
   "execution_count": 58,
   "metadata": {},
   "outputs": [],
   "source": [
    "try:\n",
    "    response = agent.invoke(\"Give me a very detailed and elaborate one\")\n",
    "except Exception as e:\n",
    "    print(f\"Error occurred: {e}\")"
   ]
  },
  {
   "cell_type": "markdown",
   "metadata": {},
   "source": [
    "\n",
    "\n",
    "The recent developments in AI are centered around generative AI, multimodal AI, and custom enterprise models. Key insights from the search results include the growing importance of AI agents, the potential of generative AI to create new content, and the increasing adoption of multimodal generative models. The global artificial intelligence market is projected to grow at a CAGR of 36.6% from 2024 to 2030, driven by the growing demand for conversational AI and gen AI solutions.\n",
    "\n",
    "**Key Insights**:\n",
    "- AI agents are the next frontier of generative AI.\n",
    "- Generative AI can learn from existing artifacts to generate new, realistic artifacts.\n",
    "- Multimodal generative models are on the rise.\n",
    "- The global artificial intelligence market is projected to grow at a CAGR of 36.6% from 2024 to 2030.\n",
    "\n",
    "**Detailed Explanation**:\n",
    "- The integration of AI agents with virtual coworkers is expected to revolutionize complex workflows.\n",
    "- Generative AI technologies are helping businesses stay competitive by automating tasks and improving decision-making.\n",
    "- The conversational AI market is projected to grow from USD 13.2 billion in 2024 to USD 49.9 billion by 2030.\n",
    "\n",
    "**Examples or Case Studies**:\n",
    "- Microsoft investing $19 billion in data centers and AI chips to innovate in gen AI.\n",
    "- Meta launching its largest open-source model to drive innovation in AI.\n",
    "\n",
    "**Conclusion**:\n",
    "- Generative AI, multimodal AI, and custom enterprise models are driving the recent developments in AI.\n",
    "- The growing demand for conversational AI and gen AI solutions is expected to propel the global artificial intelligence market to significant growth."
   ]
  },
  {
   "cell_type": "code",
   "execution_count": 61,
   "metadata": {},
   "outputs": [
    {
     "data": {
      "text/plain": [
       "{'input': 'Give me a very detailed and elaborate one',\n",
       " 'chat_history': [HumanMessage(content='What are the recent developments in the world of AI', additional_kwargs={}, response_metadata={}),\n",
       "  AIMessage(content='Recent developments in the world of AI include the increasing adoption of generative AI, with more companies investing in its usage, jumping from 55% in 2023 to 75% in 2024. Additionally, multimodal AI, which can understand information from different data types, is becoming a significant trend. Other key AI trends for 2024 include AI democratization, conversational AI, predictive analytics, and agentic AI. These developments are expected to have a significant impact on various industries, including capital markets, and are transforming the AI landscape. According to various reports, including the AI Index Report 2024 and the 2024 Global Trends in AI report, AI is gaining more widespread implementation, with a focus on responsible scaling and minimizing risk. Overall, the future of AI looks promising, with numerous opportunities for growth and innovation.', additional_kwargs={}, response_metadata={}),\n",
       "  HumanMessage(content='What are the recent developments in the world of AI', additional_kwargs={}, response_metadata={}),\n",
       "  AIMessage(content=\"Based on the search results, here is a comprehensive summary of the recent developments in the world of AI:\\n\\n**Key Insights**:\\n- AI is gaining more widespread implementation, with a focus on responsible scaling and minimizing risk.\\n- Multimodal AI is becoming a significant trend, with the ability to understand information from different data types.\\n- Generative AI is becoming more useful for non-tech people, and we can expect to see more people tinkering with it.\\n- AI training costs are increasing, and there is a need for customized enterprise generative AI models.\\n\\n**Detailed Explanation**:\\nThe AI Index Report 2024 provides new estimates on AI training costs and detailed analyses of responsible AI. The report highlights the growing importance of AI in various industries, including capital markets. The McKinsey report on the state of AI in early 2024 shows that organizations are starting to use AI and derive business value from it. The IBM report on AI trends in 2024 emphasizes the importance of reality checks, multimodal AI, and small language models.\\n\\n**Examples or Case Studies**:\\nThe article on improving a tainted reputation with chatbots highlights the potential for AI manipulation. The Governor of California's initiative to advance safe and responsible AI is also a notable example.\\n\\n**Conclusion**:\\nThe recent developments in AI suggest that it is becoming increasingly important for businesses and individuals to adopt responsible AI practices. The focus on multimodal AI, generative AI, and customized enterprise models is expected to drive innovation and growth in the field. Overall, AI is gaining more widespread implementation, and its impact on various industries is expected to be significant.\", additional_kwargs={}, response_metadata={}),\n",
       "  HumanMessage(content='Give me a more detailed one', additional_kwargs={}, response_metadata={}),\n",
       "  AIMessage(content='**Key Insights**: Adapting to emerging trends is essential to maximizing potential, minimizing risk, and responsibly scaling generative AI adoption. AI is gaining more widespread implementation, with a focus on technical advancements, public perceptions, and accessibility.\\n\\n**Detailed Explanation**: The search results indicate that AI is evolving rapidly, with a shift towards more accessible, nuanced, and integrated technologies. Generative AI might become useful for non-tech people, and more people will be tinkering with it. Custom enterprise models, open-source AI, and multimodal AI are some of the top trends to watch in 2024.\\n\\n**Examples or Case Studies**: The IBM report highlights the importance of adapting to emerging trends, while the McKinsey report shows that AI adoption has jumped to 72% globally. The Microsoft blog mentions the top five AI trends to watch, including custom enterprise models and multimodal AI.\\n\\n**Conclusion**: The findings suggest that AI is becoming increasingly important, with a focus on responsible adoption and minimizing risk. The top trends to watch in 2024 include generative AI, custom enterprise models, and multimodal AI, which promise to transform various industries and improve everyday tasks.', additional_kwargs={}, response_metadata={}),\n",
       "  HumanMessage(content='Give me a very detailed and elaborate one', additional_kwargs={}, response_metadata={}),\n",
       "  AIMessage(content='The recent developments in AI are centered around generative AI, multimodal AI, and custom enterprise models. Key insights from the search results include the growing importance of AI agents, the potential of generative AI to create new content, and the increasing adoption of multimodal generative models. The global artificial intelligence market is projected to grow at a CAGR of 36.6% from 2024 to 2030, driven by the growing demand for conversational AI and gen AI solutions.\\n\\n**Key Insights**:\\n- AI agents are the next frontier of generative AI.\\n- Generative AI can learn from existing artifacts to generate new, realistic artifacts.\\n- Multimodal generative models are on the rise.\\n- The global artificial intelligence market is projected to grow at a CAGR of 36.6% from 2024 to 2030.\\n\\n**Detailed Explanation**:\\n- The integration of AI agents with virtual coworkers is expected to revolutionize complex workflows.\\n- Generative AI technologies are helping businesses stay competitive by automating tasks and improving decision-making.\\n- The conversational AI market is projected to grow from USD 13.2 billion in 2024 to USD 49.9 billion by 2030.\\n\\n**Examples or Case Studies**:\\n- Microsoft investing $19 billion in data centers and AI chips to innovate in gen AI.\\n- Meta launching its largest open-source model to drive innovation in AI.\\n\\n**Conclusion**:\\n- Generative AI, multimodal AI, and custom enterprise models are driving the recent developments in AI.\\n- The growing demand for conversational AI and gen AI solutions is expected to propel the global artificial intelligence market to significant growth.', additional_kwargs={}, response_metadata={})],\n",
       " 'output': 'The recent developments in AI are centered around generative AI, multimodal AI, and custom enterprise models. Key insights from the search results include the growing importance of AI agents, the potential of generative AI to create new content, and the increasing adoption of multimodal generative models. The global artificial intelligence market is projected to grow at a CAGR of 36.6% from 2024 to 2030, driven by the growing demand for conversational AI and gen AI solutions.\\n\\n**Key Insights**:\\n- AI agents are the next frontier of generative AI.\\n- Generative AI can learn from existing artifacts to generate new, realistic artifacts.\\n- Multimodal generative models are on the rise.\\n- The global artificial intelligence market is projected to grow at a CAGR of 36.6% from 2024 to 2030.\\n\\n**Detailed Explanation**:\\n- The integration of AI agents with virtual coworkers is expected to revolutionize complex workflows.\\n- Generative AI technologies are helping businesses stay competitive by automating tasks and improving decision-making.\\n- The conversational AI market is projected to grow from USD 13.2 billion in 2024 to USD 49.9 billion by 2030.\\n\\n**Examples or Case Studies**:\\n- Microsoft investing $19 billion in data centers and AI chips to innovate in gen AI.\\n- Meta launching its largest open-source model to drive innovation in AI.\\n\\n**Conclusion**:\\n- Generative AI, multimodal AI, and custom enterprise models are driving the recent developments in AI.\\n- The growing demand for conversational AI and gen AI solutions is expected to propel the global artificial intelligence market to significant growth.'}"
      ]
     },
     "execution_count": 61,
     "metadata": {},
     "output_type": "execute_result"
    }
   ],
   "source": [
    "response"
   ]
  },
  {
   "cell_type": "code",
   "execution_count": null,
   "metadata": {},
   "outputs": [
    {
     "data": {
      "text/plain": [
       "[HumanMessage(content='What are the recent developments in the world of AI', additional_kwargs={}, response_metadata={}),\n",
       " AIMessage(content='Recent developments in the world of AI include the increasing adoption of generative AI, with more companies investing in its usage, jumping from 55% in 2023 to 75% in 2024. Additionally, multimodal AI, which can understand information from different data types, is becoming a significant trend. Other key AI trends for 2024 include AI democratization, conversational AI, predictive analytics, and agentic AI. These developments are expected to have a significant impact on various industries, including capital markets, and are transforming the AI landscape. According to various reports, including the AI Index Report 2024 and the 2024 Global Trends in AI report, AI is gaining more widespread implementation, with a focus on responsible scaling and minimizing risk. Overall, the future of AI looks promising, with numerous opportunities for growth and innovation.', additional_kwargs={}, response_metadata={}),\n",
       " HumanMessage(content='What are the recent developments in the world of AI', additional_kwargs={}, response_metadata={}),\n",
       " AIMessage(content=\"Based on the search results, here is a comprehensive summary of the recent developments in the world of AI:\\n\\n**Key Insights**:\\n- AI is gaining more widespread implementation, with a focus on responsible scaling and minimizing risk.\\n- Multimodal AI is becoming a significant trend, with the ability to understand information from different data types.\\n- Generative AI is becoming more useful for non-tech people, and we can expect to see more people tinkering with it.\\n- AI training costs are increasing, and there is a need for customized enterprise generative AI models.\\n\\n**Detailed Explanation**:\\nThe AI Index Report 2024 provides new estimates on AI training costs and detailed analyses of responsible AI. The report highlights the growing importance of AI in various industries, including capital markets. The McKinsey report on the state of AI in early 2024 shows that organizations are starting to use AI and derive business value from it. The IBM report on AI trends in 2024 emphasizes the importance of reality checks, multimodal AI, and small language models.\\n\\n**Examples or Case Studies**:\\nThe article on improving a tainted reputation with chatbots highlights the potential for AI manipulation. The Governor of California's initiative to advance safe and responsible AI is also a notable example.\\n\\n**Conclusion**:\\nThe recent developments in AI suggest that it is becoming increasingly important for businesses and individuals to adopt responsible AI practices. The focus on multimodal AI, generative AI, and customized enterprise models is expected to drive innovation and growth in the field. Overall, AI is gaining more widespread implementation, and its impact on various industries is expected to be significant.\", additional_kwargs={}, response_metadata={}),\n",
       " HumanMessage(content='Give me a more detailed one', additional_kwargs={}, response_metadata={}),\n",
       " AIMessage(content='**Key Insights**: Adapting to emerging trends is essential to maximizing potential, minimizing risk, and responsibly scaling generative AI adoption. AI is gaining more widespread implementation, with a focus on technical advancements, public perceptions, and accessibility.\\n\\n**Detailed Explanation**: The search results indicate that AI is evolving rapidly, with a shift towards more accessible, nuanced, and integrated technologies. Generative AI might become useful for non-tech people, and more people will be tinkering with it. Custom enterprise models, open-source AI, and multimodal AI are some of the top trends to watch in 2024.\\n\\n**Examples or Case Studies**: The IBM report highlights the importance of adapting to emerging trends, while the McKinsey report shows that AI adoption has jumped to 72% globally. The Microsoft blog mentions the top five AI trends to watch, including custom enterprise models and multimodal AI.\\n\\n**Conclusion**: The findings suggest that AI is becoming increasingly important, with a focus on responsible adoption and minimizing risk. The top trends to watch in 2024 include generative AI, custom enterprise models, and multimodal AI, which promise to transform various industries and improve everyday tasks.', additional_kwargs={}, response_metadata={}),\n",
       " HumanMessage(content='Give me a very detailed and elaborate one', additional_kwargs={}, response_metadata={}),\n",
       " AIMessage(content='The recent developments in AI are centered around generative AI, multimodal AI, and custom enterprise models. Key insights from the search results include the growing importance of AI agents, the potential of generative AI to create new content, and the increasing adoption of multimodal generative models. The global artificial intelligence market is projected to grow at a CAGR of 36.6% from 2024 to 2030, driven by the growing demand for conversational AI and gen AI solutions.\\n\\n**Key Insights**:\\n- AI agents are the next frontier of generative AI.\\n- Generative AI can learn from existing artifacts to generate new, realistic artifacts.\\n- Multimodal generative models are on the rise.\\n- The global artificial intelligence market is projected to grow at a CAGR of 36.6% from 2024 to 2030.\\n\\n**Detailed Explanation**:\\n- The integration of AI agents with virtual coworkers is expected to revolutionize complex workflows.\\n- Generative AI technologies are helping businesses stay competitive by automating tasks and improving decision-making.\\n- The conversational AI market is projected to grow from USD 13.2 billion in 2024 to USD 49.9 billion by 2030.\\n\\n**Examples or Case Studies**:\\n- Microsoft investing $19 billion in data centers and AI chips to innovate in gen AI.\\n- Meta launching its largest open-source model to drive innovation in AI.\\n\\n**Conclusion**:\\n- Generative AI, multimodal AI, and custom enterprise models are driving the recent developments in AI.\\n- The growing demand for conversational AI and gen AI solutions is expected to propel the global artificial intelligence market to significant growth.', additional_kwargs={}, response_metadata={})]"
      ]
     },
     "execution_count": 64,
     "metadata": {},
     "output_type": "execute_result"
    }
   ],
   "source": [
    "response['chat_history']"
   ]
  },
  {
   "cell_type": "code",
   "execution_count": null,
   "metadata": {},
   "outputs": [],
   "source": []
  }
 ],
 "metadata": {
  "kernelspec": {
   "display_name": "myvenvlangchain",
   "language": "python",
   "name": "python3"
  },
  "language_info": {
   "codemirror_mode": {
    "name": "ipython",
    "version": 3
   },
   "file_extension": ".py",
   "mimetype": "text/x-python",
   "name": "python",
   "nbconvert_exporter": "python",
   "pygments_lexer": "ipython3",
   "version": "3.10.6"
  }
 },
 "nbformat": 4,
 "nbformat_minor": 2
}
